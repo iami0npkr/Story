{
  "nbformat": 4,
  "nbformat_minor": 0,
  "metadata": {
    "colab": {
      "provenance": [],
      "authorship_tag": "ABX9TyO7RmRZE9f01Z8wVYRLm66P",
      "include_colab_link": true
    },
    "kernelspec": {
      "name": "python3",
      "display_name": "Python 3"
    },
    "language_info": {
      "name": "python"
    }
  },
  "cells": [
    {
      "cell_type": "markdown",
      "metadata": {
        "id": "view-in-github",
        "colab_type": "text"
      },
      "source": [
        "<a href=\"https://colab.research.google.com/github/iami0npkr/Story/blob/main/Operators_in_Python.ipynb\" target=\"_parent\"><img src=\"https://colab.research.google.com/assets/colab-badge.svg\" alt=\"Open In Colab\"/></a>"
      ]
    },
    {
      "cell_type": "markdown",
      "source": [
        "#Operators in python:\n",
        "\n",
        "      1.Arithmetic Oerators\n",
        "      2.Assignment Operatorss\n",
        "      3.Comparison Operators\n",
        "      4.Logical Operators\n",
        "      5.Identity Operators\n",
        "      6.Membership Operators\n",
        "    "
      ],
      "metadata": {
        "id": "ELwylZ5LEo4n"
      }
    },
    {
      "cell_type": "markdown",
      "source": [
        "1. Arithmetic Operators"
      ],
      "metadata": {
        "id": "pyPHnQycFJwM"
      }
    },
    {
      "cell_type": "code",
      "source": [
        "num_1 = 20\n",
        "num_2 = 11\n",
        "\n",
        "# Addition\n",
        "sum_result = num_1 + num_2\n",
        "print(\"Sum:\", sum_result)\n",
        "\n",
        "# Subtraction\n",
        "difference = num_1 - num_2\n",
        "print(\"Difference:\", difference)\n",
        "\n",
        "# Multiplication\n",
        "product = num_1 * num_2\n",
        "print(\"Product:\", product)\n",
        "\n",
        "# Division\n",
        "quotient = num_1 / num_2\n",
        "print(\"Quotient:\", quotient)\n",
        "\n",
        "# Floor Division (returns the integer part of the division)\n",
        "floor_division = num_1 // num_2\n",
        "print(\"Floor Division:\", floor_division)\n",
        "\n",
        "# Modulo (returns the remainder of the division)\n",
        "modulo = num_1 % num_2\n",
        "print(\"Modulo:\", modulo)\n",
        "\n",
        "# Exponentiation (raises num_1 to the power of num_2)\n",
        "exponentiation = num_1 ** num_2\n",
        "print(\"Exponentiation:\", exponentiation)"
      ],
      "metadata": {
        "colab": {
          "base_uri": "https://localhost:8080/"
        },
        "id": "lwBnVfmoE8PA",
        "outputId": "9c39098c-eadc-4221-ea26-454fb1dd0994"
      },
      "execution_count": 9,
      "outputs": [
        {
          "output_type": "stream",
          "name": "stdout",
          "text": [
            "Sum: 31\n",
            "Difference: 9\n",
            "Product: 220\n",
            "Quotient: 1.8181818181818181\n",
            "Floor Division: 1\n",
            "Modulo: 9\n",
            "Exponentiation: 204800000000000\n"
          ]
        }
      ]
    },
    {
      "cell_type": "markdown",
      "source": [
        "#2.Assignment Operators"
      ],
      "metadata": {
        "id": "9wGSImBSRDMw"
      }
    },
    {
      "cell_type": "code",
      "source": [
        "a=5\n",
        "print(a)"
      ],
      "metadata": {
        "colab": {
          "base_uri": "https://localhost:8080/"
        },
        "id": "-4_l379RFXCQ",
        "outputId": "24462c93-42f6-43a3-c4e6-80b693fc272b"
      },
      "execution_count": 1,
      "outputs": [
        {
          "output_type": "stream",
          "name": "stdout",
          "text": [
            "5\n"
          ]
        }
      ]
    },
    {
      "cell_type": "code",
      "source": [
        "a=5\n",
        "a+=5\n",
        "print(a)"
      ],
      "metadata": {
        "colab": {
          "base_uri": "https://localhost:8080/"
        },
        "id": "9NywR1afRNPp",
        "outputId": "0033d3f5-f01c-4d25-a9d2-9c3986653505"
      },
      "execution_count": 2,
      "outputs": [
        {
          "output_type": "stream",
          "name": "stdout",
          "text": [
            "10\n"
          ]
        }
      ]
    },
    {
      "cell_type": "code",
      "source": [
        "b=5\n",
        "b -= 2"
      ],
      "metadata": {
        "id": "Q79zOiSnRSF5"
      },
      "execution_count": 4,
      "outputs": []
    },
    {
      "cell_type": "markdown",
      "source": [
        "#3.Comparison Operators"
      ],
      "metadata": {
        "id": "7ehgULkBRkG_"
      }
    },
    {
      "cell_type": "code",
      "source": [
        "a=5\n",
        "b=10\n",
        "\n",
        "print(a==b)\n",
        "print(a!=b)\n",
        "print(a>b)\n",
        "print(a<b)\n",
        "print(a>=b)\n",
        "print(a<=b)"
      ],
      "metadata": {
        "colab": {
          "base_uri": "https://localhost:8080/"
        },
        "id": "btiR9rGNRU_r",
        "outputId": "b860fb41-10ed-431f-ba13-c5da81fcb8aa"
      },
      "execution_count": 5,
      "outputs": [
        {
          "output_type": "stream",
          "name": "stdout",
          "text": [
            "False\n",
            "True\n",
            "False\n",
            "True\n",
            "False\n",
            "True\n"
          ]
        }
      ]
    },
    {
      "cell_type": "markdown",
      "source": [
        "#4.Logical Operators"
      ],
      "metadata": {
        "id": "7U39xytvSCLc"
      }
    },
    {
      "cell_type": "code",
      "source": [
        "a = 10\n",
        "print( a > 20 and a>5 )\n",
        "print( a > 20 or a > 5 )\n",
        "print( not(a > 8 and a < 10))"
      ],
      "metadata": {
        "colab": {
          "base_uri": "https://localhost:8080/"
        },
        "id": "JCm0le7GRyw5",
        "outputId": "f40b6787-78ea-4705-e261-59030b22987c"
      },
      "execution_count": 12,
      "outputs": [
        {
          "output_type": "stream",
          "name": "stdout",
          "text": [
            "False\n",
            "True\n",
            "True\n"
          ]
        }
      ]
    },
    {
      "cell_type": "markdown",
      "source": [
        "# 5.Identity Operator"
      ],
      "metadata": {
        "id": "N74ABK-XSvKf"
      }
    },
    {
      "cell_type": "code",
      "source": [
        "x=5\n",
        "y=10\n",
        "\n",
        "print(x is y)"
      ],
      "metadata": {
        "colab": {
          "base_uri": "https://localhost:8080/"
        },
        "id": "YQ8atAEDR1te",
        "outputId": "eab408d0-0cdd-40e1-d6db-790914e0bba8"
      },
      "execution_count": 14,
      "outputs": [
        {
          "output_type": "stream",
          "name": "stdout",
          "text": [
            "False\n"
          ]
        }
      ]
    },
    {
      "cell_type": "code",
      "source": [
        "print(x is not y)"
      ],
      "metadata": {
        "colab": {
          "base_uri": "https://localhost:8080/"
        },
        "id": "Z-QafjTUS4vw",
        "outputId": "50538b95-c0c3-40db-bebe-72e670ce0127"
      },
      "execution_count": 16,
      "outputs": [
        {
          "output_type": "stream",
          "name": "stdout",
          "text": [
            "True\n"
          ]
        }
      ]
    },
    {
      "cell_type": "markdown",
      "source": [
        "#6. Membership Operator"
      ],
      "metadata": {
        "id": "0UkxXGdCT1q7"
      }
    },
    {
      "cell_type": "code",
      "source": [
        "a = 5\n",
        "b = 10\n",
        "\n",
        "c = [1,2,3,4,5]\n",
        "print(a in c)\n",
        "print(b not in c)"
      ],
      "metadata": {
        "colab": {
          "base_uri": "https://localhost:8080/"
        },
        "id": "LD3o9Jz8TXDx",
        "outputId": "304d7ab9-1c34-4bee-9697-3a59d600f352"
      },
      "execution_count": 18,
      "outputs": [
        {
          "output_type": "stream",
          "name": "stdout",
          "text": [
            "True\n",
            "True\n"
          ]
        }
      ]
    },
    {
      "cell_type": "code",
      "source": [],
      "metadata": {
        "id": "8bZo0ZjbUHpg"
      },
      "execution_count": null,
      "outputs": []
    }
  ]
}