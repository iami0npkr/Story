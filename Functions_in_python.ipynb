{
  "nbformat": 4,
  "nbformat_minor": 0,
  "metadata": {
    "colab": {
      "provenance": [],
      "authorship_tag": "ABX9TyMPL16+7tQ7bQbq2aP2QmyP",
      "include_colab_link": true
    },
    "kernelspec": {
      "name": "python3",
      "display_name": "Python 3"
    },
    "language_info": {
      "name": "python"
    }
  },
  "cells": [
    {
      "cell_type": "markdown",
      "metadata": {
        "id": "view-in-github",
        "colab_type": "text"
      },
      "source": [
        "<a href=\"https://colab.research.google.com/github/iami0npkr/Story/blob/main/Functions_in_python.ipynb\" target=\"_parent\"><img src=\"https://colab.research.google.com/assets/colab-badge.svg\" alt=\"Open In Colab\"/></a>"
      ]
    },
    {
      "cell_type": "markdown",
      "source": [
        "#Functions:\n",
        "\n",
        "Function is a block of code that can be reused in a Program"
      ],
      "metadata": {
        "id": "oUtvqa71ak0b"
      }
    },
    {
      "cell_type": "markdown",
      "source": [
        "Factorial of a Number , it is the product of all the positive numbers less than or equal to the given number"
      ],
      "metadata": {
        "id": "QAYlGWalbIuJ"
      }
    },
    {
      "cell_type": "code",
      "source": [
        "number = int(input(\"Enter a number to find its factorial : \"))\n",
        "\n",
        "factorial = 1\n",
        "\n",
        "if(number == 0):\n",
        "  print(\"The factorial of 0 is 1\")\n",
        "else:\n",
        "  for i in range(1,number+1):\n",
        "    factorial = factorial * i\n",
        "  print(\"The factorial of\",number,\"is\",factorial)"
      ],
      "metadata": {
        "colab": {
          "base_uri": "https://localhost:8080/"
        },
        "id": "ZpbKwoXDaxMU",
        "outputId": "e0995037-65d9-4638-ef10-1b4666a88cc3"
      },
      "execution_count": 6,
      "outputs": [
        {
          "output_type": "stream",
          "name": "stdout",
          "text": [
            "Enter a number to find its factorial : 6\n",
            "The factorial of 6 is 720\n"
          ]
        }
      ]
    },
    {
      "cell_type": "markdown",
      "source": [
        "Factorial Function"
      ],
      "metadata": {
        "id": "szd1enEodATQ"
      }
    },
    {
      "cell_type": "code",
      "source": [
        "def factorial_value(num):\n",
        "  factorial = 1\n",
        "  if(num == 0):\n",
        "    return factorial\n",
        "  else:\n",
        "    for i in range(1,num+1):\n",
        "      factorial = factorial * i\n",
        "    return factorial\n",
        "num = int(input(\"Enter a number: \"))\n",
        "print(factorial_value(num))"
      ],
      "metadata": {
        "colab": {
          "base_uri": "https://localhost:8080/"
        },
        "id": "ZJSzzNuSa63H",
        "outputId": "36d821bb-9911-4ed7-923b-17235342e4c9"
      },
      "execution_count": 7,
      "outputs": [
        {
          "output_type": "stream",
          "name": "stdout",
          "text": [
            "Enter a number: 7\n",
            "5040\n"
          ]
        }
      ]
    },
    {
      "cell_type": "code",
      "source": [],
      "metadata": {
        "id": "tk9Zz13SdPr1"
      },
      "execution_count": null,
      "outputs": []
    }
  ]
}