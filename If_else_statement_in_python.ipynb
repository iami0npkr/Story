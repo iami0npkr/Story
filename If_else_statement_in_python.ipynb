{
  "nbformat": 4,
  "nbformat_minor": 0,
  "metadata": {
    "colab": {
      "provenance": [],
      "authorship_tag": "ABX9TyNJCLSPZ1CiCMtV1LxdXYI0",
      "include_colab_link": true
    },
    "kernelspec": {
      "name": "python3",
      "display_name": "Python 3"
    },
    "language_info": {
      "name": "python"
    }
  },
  "cells": [
    {
      "cell_type": "markdown",
      "metadata": {
        "id": "view-in-github",
        "colab_type": "text"
      },
      "source": [
        "<a href=\"https://colab.research.google.com/github/iami0npkr/Story/blob/main/If_else_statement_in_python.ipynb\" target=\"_parent\"><img src=\"https://colab.research.google.com/assets/colab-badge.svg\" alt=\"Open In Colab\"/></a>"
      ]
    },
    {
      "cell_type": "markdown",
      "source": [
        "#simple if else statement"
      ],
      "metadata": {
        "id": "RR5dud2aUrmV"
      }
    },
    {
      "cell_type": "code",
      "source": [
        "a = 30\n",
        "b = 50\n",
        "if(a>b):\n",
        "  print(\"a is greater than b\")\n",
        "else:\n",
        "  print(\"b is greater than a\")"
      ],
      "metadata": {
        "colab": {
          "base_uri": "https://localhost:8080/"
        },
        "id": "Cz3ws2sQUwLv",
        "outputId": "8565ad2c-68f4-4820-a24f-e1f2b63cc3b0"
      },
      "execution_count": 2,
      "outputs": [
        {
          "output_type": "stream",
          "name": "stdout",
          "text": [
            "b is greater than a\n"
          ]
        }
      ]
    },
    {
      "cell_type": "code",
      "source": [
        "a = int(input(\"Enter the first number: \"))\n",
        "b = int(input(\"Enter the second number: \"))\n",
        "\n",
        "if(a>b):\n",
        "  print(\"a is greater than b\")\n",
        "else:\n",
        "  print(\"b is greater than a\")\n"
      ],
      "metadata": {
        "colab": {
          "base_uri": "https://localhost:8080/"
        },
        "id": "C4IDADKKU_xl",
        "outputId": "3610b701-9225-4af5-f9c9-6ea984148dd7"
      },
      "execution_count": 3,
      "outputs": [
        {
          "output_type": "stream",
          "name": "stdout",
          "text": [
            "Enter the first number: 4\n",
            "Enter the second number: 5\n",
            "b is greater than a\n"
          ]
        }
      ]
    },
    {
      "cell_type": "markdown",
      "source": [
        "#if elif else statement"
      ],
      "metadata": {
        "id": "_yxGWXuRVgT0"
      }
    },
    {
      "cell_type": "code",
      "source": [
        "a = 15\n",
        "b = 25\n",
        "c = 30\n",
        "\n",
        "if(b<a>c):\n",
        "  print(\"a is the greatest\")\n",
        "elif(a<b>c):\n",
        "  print(\"b is the greatest\")\n",
        "else:\n",
        "  print(\"c is the greatest\")\n"
      ],
      "metadata": {
        "colab": {
          "base_uri": "https://localhost:8080/"
        },
        "id": "simbmIczVaVg",
        "outputId": "5224efa4-0db2-4ee0-d887-0195c1acd70e"
      },
      "execution_count": 5,
      "outputs": [
        {
          "output_type": "stream",
          "name": "stdout",
          "text": [
            "c is the greatest\n"
          ]
        }
      ]
    },
    {
      "cell_type": "markdown",
      "source": [
        "#nested if statement\n"
      ],
      "metadata": {
        "id": "9LnDsKFWWJs8"
      }
    },
    {
      "cell_type": "code",
      "source": [
        "a = 20\n",
        "b = 40\n",
        "c = 60\n",
        "\n",
        "if( a > b ):\n",
        "  if( a > c ):\n",
        "    print(\"a is the greatest\")\n",
        "  else:\n",
        "    print(\"c is the greatest\")\n",
        "else:\n",
        "  if( b > c ):\n",
        "    print(\"b is the greatest\")\n",
        "  else:\n",
        "    print(\"c is the greatest\")"
      ],
      "metadata": {
        "colab": {
          "base_uri": "https://localhost:8080/"
        },
        "id": "Q2C5Nhv-WNNR",
        "outputId": "b523089c-b912-4ab2-95b6-6d2e68b13e7d"
      },
      "execution_count": 6,
      "outputs": [
        {
          "output_type": "stream",
          "name": "stdout",
          "text": [
            "c is the greatest\n"
          ]
        }
      ]
    },
    {
      "cell_type": "code",
      "source": [],
      "metadata": {
        "id": "H5WQe8SHWiJG"
      },
      "execution_count": null,
      "outputs": []
    }
  ]
}